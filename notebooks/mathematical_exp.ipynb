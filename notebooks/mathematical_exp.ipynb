{
 "cells": [
  {
   "cell_type": "code",
   "execution_count": 5,
   "metadata": {},
   "outputs": [
    {
     "ename": "IndexError",
     "evalue": "pop from empty list",
     "output_type": "error",
     "traceback": [
      "\u001b[0;31m---------------------------------------------------------------------------\u001b[0m",
      "\u001b[0;31mIndexError\u001b[0m                                Traceback (most recent call last)",
      "Cell \u001b[0;32mIn[5], line 66\u001b[0m\n\u001b[1;32m     63\u001b[0m     \u001b[39mreturn\u001b[39;00m result\n\u001b[1;32m     65\u001b[0m \u001b[39m# Test cases\u001b[39;00m\n\u001b[0;32m---> 66\u001b[0m \u001b[39mprint\u001b[39m(calculate(\u001b[39m\"\u001b[39;49m\u001b[39m(2 / (2 + 3.33) * 4) - -6\u001b[39;49m\u001b[39m\"\u001b[39;49m))  \u001b[39m# Output: 7.548821548821549\u001b[39;00m\n\u001b[1;32m     67\u001b[0m \u001b[39mprint\u001b[39m(calculate(\u001b[39m\"\u001b[39m\u001b[39m1 - -1\u001b[39m\u001b[39m\"\u001b[39m))  \u001b[39m# Output: 2.0\u001b[39;00m\n\u001b[1;32m     68\u001b[0m \u001b[39mprint\u001b[39m(calculate(\u001b[39m\"\u001b[39m\u001b[39m6 + -(4)\u001b[39m\u001b[39m\"\u001b[39m))  \u001b[39m# Output: 2.0\u001b[39;00m\n",
      "Cell \u001b[0;32mIn[5], line 62\u001b[0m, in \u001b[0;36mcalculate\u001b[0;34m(expression)\u001b[0m\n\u001b[1;32m     60\u001b[0m tokens \u001b[39m=\u001b[39m tokenize(expression)\n\u001b[1;32m     61\u001b[0m postfix \u001b[39m=\u001b[39m infix_to_postfix(tokens)\n\u001b[0;32m---> 62\u001b[0m result \u001b[39m=\u001b[39m evaluate_postfix(postfix)\n\u001b[1;32m     63\u001b[0m \u001b[39mreturn\u001b[39;00m result\n",
      "Cell \u001b[0;32mIn[5], line 48\u001b[0m, in \u001b[0;36mevaluate_postfix\u001b[0;34m(tokens)\u001b[0m\n\u001b[1;32m     46\u001b[0m \u001b[39melif\u001b[39;00m token \u001b[39min\u001b[39;00m \u001b[39m'\u001b[39m\u001b[39m+-*/\u001b[39m\u001b[39m'\u001b[39m:\n\u001b[1;32m     47\u001b[0m     b \u001b[39m=\u001b[39m stack\u001b[39m.\u001b[39mpop()\n\u001b[0;32m---> 48\u001b[0m     a \u001b[39m=\u001b[39m stack\u001b[39m.\u001b[39;49mpop()\n\u001b[1;32m     49\u001b[0m     \u001b[39mif\u001b[39;00m token \u001b[39m==\u001b[39m \u001b[39m'\u001b[39m\u001b[39m+\u001b[39m\u001b[39m'\u001b[39m:\n\u001b[1;32m     50\u001b[0m         stack\u001b[39m.\u001b[39mappend(a \u001b[39m+\u001b[39m b)\n",
      "\u001b[0;31mIndexError\u001b[0m: pop from empty list"
     ]
    }
   ],
   "source": [
    "def tokenize(expression):\n",
    "    tokens = []\n",
    "    current_token = ''\n",
    "    for char in expression:\n",
    "        if char.isdigit() or char == '.':\n",
    "            current_token += char\n",
    "        else:\n",
    "            if current_token:\n",
    "                tokens.append(float(current_token))\n",
    "                current_token = ''\n",
    "            if char.strip():  # Ignore whitespace\n",
    "                tokens.append(char)\n",
    "    if current_token:\n",
    "        tokens.append(float(current_token))\n",
    "    return tokens\n",
    "\n",
    "def infix_to_postfix(tokens):\n",
    "    precedence = {'*': 2, '/': 2, '+': 1, '-': 1, '(': 0}\n",
    "    output = []\n",
    "    operators = []\n",
    "    \n",
    "    for token in tokens:\n",
    "        if isinstance(token, float):\n",
    "            output.append(token)\n",
    "        elif token in '+-*/':\n",
    "            while operators and precedence[operators[-1]] >= precedence[token]:\n",
    "                output.append(operators.pop())\n",
    "            operators.append(token)\n",
    "        elif token == '(':\n",
    "            operators.append(token)\n",
    "        elif token == ')':\n",
    "            while operators and operators[-1] != '(':\n",
    "                output.append(operators.pop())\n",
    "            operators.pop()\n",
    "    \n",
    "    while operators:\n",
    "        output.append(operators.pop())\n",
    "    \n",
    "    return output\n",
    "\n",
    "def evaluate_postfix(tokens):\n",
    "    stack = []\n",
    "    for token in tokens:\n",
    "        if isinstance(token, float):\n",
    "            stack.append(token)\n",
    "        elif token in '+-*/':\n",
    "            b = stack.pop()\n",
    "            a = stack.pop()\n",
    "            if token == '+':\n",
    "                stack.append(a + b)\n",
    "            elif token == '-':\n",
    "                stack.append(a - b)\n",
    "            elif token == '*':\n",
    "                stack.append(a * b)\n",
    "            elif token == '/':\n",
    "                stack.append(a / b)\n",
    "    return stack[0]\n",
    "\n",
    "def calculate(expression):\n",
    "    tokens = tokenize(expression)\n",
    "    postfix = infix_to_postfix(tokens)\n",
    "    result = evaluate_postfix(postfix)\n",
    "    return result\n",
    "\n",
    "# Test cases\n",
    "print(calculate(\"(2 / (2 + 3.33) * 4) - -6\"))  # Output: 7.548821548821549\n",
    "print(calculate(\"1 - -1\"))  # Output: 2.0\n",
    "print(calculate(\"6 + -(4)\"))  # Output: 2.0\n"
   ]
  }
 ],
 "metadata": {
  "kernelspec": {
   "display_name": ".venv",
   "language": "python",
   "name": "python3"
  },
  "language_info": {
   "codemirror_mode": {
    "name": "ipython",
    "version": 3
   },
   "file_extension": ".py",
   "mimetype": "text/x-python",
   "name": "python",
   "nbconvert_exporter": "python",
   "pygments_lexer": "ipython3",
   "version": "3.10.1"
  },
  "orig_nbformat": 4
 },
 "nbformat": 4,
 "nbformat_minor": 2
}
