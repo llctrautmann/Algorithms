{
 "cells": [
  {
   "cell_type": "code",
   "execution_count": 2,
   "metadata": {},
   "outputs": [
    {
     "name": "stdout",
     "output_type": "stream",
     "text": [
      "\n",
      "True\n",
      "\n",
      "True\n",
      "\n",
      "False\n",
      "\n",
      "False\n"
     ]
    }
   ],
   "source": [
    "import re\n",
    "def compare_strings(string1, string2):\n",
    "  #Convert both strings to lowercase \n",
    "  #and remove leading and trailing blanks\n",
    "  string1 = string1.lower().strip()\n",
    "  string2 = string2.lower().strip()\n",
    "\n",
    "  #Ignore punctuation\n",
    "  punctuation = r\"[.?!,;:\\-']\"\n",
    "  string1 = re.sub(punctuation, r\"\", string1)\n",
    "  string2 = re.sub(punctuation, r\"\", string2)\n",
    "\n",
    "  #DEBUG CODE GOES HERE\n",
    "  print(___)\n",
    "\n",
    "  return string1 == string2\n",
    "\n",
    "print(compare_strings(\"Have a Great Day!\", \"Have a great day?\")) # True\n",
    "print(compare_strings(\"It's raining again.\", \"its raining, again\")) # True\n",
    "print(compare_strings(\"Learn to count: 1, 2, 3.\", \"Learn to count: one, two, three.\")) # False\n",
    "print(compare_strings(\"They found some body.\", \"They found somebody.\")) # False"
   ]
  }
 ],
 "metadata": {
  "kernelspec": {
   "display_name": ".venv",
   "language": "python",
   "name": "python3"
  },
  "language_info": {
   "codemirror_mode": {
    "name": "ipython",
    "version": 3
   },
   "file_extension": ".py",
   "mimetype": "text/x-python",
   "name": "python",
   "nbconvert_exporter": "python",
   "pygments_lexer": "ipython3",
   "version": "3.10.1"
  },
  "orig_nbformat": 4
 },
 "nbformat": 4,
 "nbformat_minor": 2
}
