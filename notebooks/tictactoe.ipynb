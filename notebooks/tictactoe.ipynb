{
 "cells": [
  {
   "cell_type": "code",
   "execution_count": 1,
   "metadata": {},
   "outputs": [],
   "source": [
    "from IPython.display import clear_output"
   ]
  },
  {
   "cell_type": "code",
   "execution_count": 50,
   "metadata": {},
   "outputs": [],
   "source": [
    "def print_playing_field(values):\n",
    "    print('-------------')\n",
    "    print(f'| {values[0]} | {values[1]} | {values[2]} |')\n",
    "    print('-------------')\n",
    "    print(f'| {values[3]} | {values[4]} | {values[5]} |')\n",
    "    print('-------------')\n",
    "    print(f'| {values[6]} | {values[7]} | {values[8]} |')\n",
    "    print('-------------')\n"
   ]
  },
  {
   "cell_type": "code",
   "execution_count": 49,
   "metadata": {},
   "outputs": [],
   "source": [
    "def check_end(values):\n",
    "    for i in range(len(values)):\n",
    "        if values[i] == '-':\n",
    "            return True\n",
    "    return False"
   ]
  },
  {
   "cell_type": "code",
   "execution_count": 48,
   "metadata": {},
   "outputs": [],
   "source": [
    "def user_inputs(values):\n",
    "    pos = input('please select an empty field: ')\n",
    "\n",
    "    if 0 >= int(pos) or int(pos) > 9:\n",
    "        print('This field does not exist')\n",
    "        pos =  user_inputs(values)\n",
    "\n",
    "    elif values[int(pos) - 1] != '-':\n",
    "        print('This field is already taken.')\n",
    "        pos = user_inputs(values)\n",
    "\n",
    "    return int(pos)"
   ]
  },
  {
   "cell_type": "code",
   "execution_count": 68,
   "metadata": {},
   "outputs": [],
   "source": [
    "def check_win(values):\n",
    "    n = len(values) // 3\n",
    "\n",
    "    chunks = [values[i:i+n] for i in range(0, len(values), n)]\n",
    "\n",
    "    print(chunks)\n",
    "    for chunk in chunks:\n",
    "        print(all(x == chunk[0] for x in chunk))\n",
    "        if all(x == chunk[0] for x in chunk):\n",
    "            print('over')\n",
    "            return False\n",
    "        else:\n",
    "            pass\n",
    "\n",
    "    col_chunks = [values[i::n] for i in range(3)]\n",
    "    for chunk in col_chunks:\n",
    "        if all(x == chunk[0] for x in chunk):\n",
    "            return False\n",
    "        else:\n",
    "            pass\n",
    "\n",
    "    if values[0] == 'X' and values[5] == 'X' and values[8] == 'X':\n",
    "        return False\n",
    "    if values[2] == 'X' and values[5] == 'X' and values[7] == 'X':\n",
    "        return False\n",
    "    if values[0] == 'O' and values[5] == 'O' and values[8] == 'O':\n",
    "        return False\n",
    "    if values[2] == 'O' and values[5] == 'O' and values[7] == 'O':\n",
    "        return False\n",
    "    \n",
    "    return True"
   ]
  },
  {
   "cell_type": "code",
   "execution_count": 69,
   "metadata": {},
   "outputs": [
    {
     "name": "stdout",
     "output_type": "stream",
     "text": [
      "[['-', '-', '-'], ['-', '-', '-'], ['-', '-', '-']]\n",
      "True\n",
      "over\n",
      "-------------\n",
      "| - | - | - |\n",
      "-------------\n",
      "| - | - | - |\n",
      "-------------\n",
      "| - | - | - |\n",
      "-------------\n"
     ]
    },
    {
     "ename": "ValueError",
     "evalue": "invalid literal for int() with base 10: ''",
     "output_type": "error",
     "traceback": [
      "\u001b[0;31m---------------------------------------------------------------------------\u001b[0m",
      "\u001b[0;31mValueError\u001b[0m                                Traceback (most recent call last)",
      "\u001b[1;32m/Users/luca/Desktop/tictactoe.ipynb Cell 6\u001b[0m in \u001b[0;36m1\n\u001b[1;32m     <a href='vscode-notebook-cell:/Users/luca/Desktop/tictactoe.ipynb#W4sZmlsZQ%3D%3D?line=11'>12</a>\u001b[0m print_playing_field(values)\n\u001b[1;32m     <a href='vscode-notebook-cell:/Users/luca/Desktop/tictactoe.ipynb#W4sZmlsZQ%3D%3D?line=13'>14</a>\u001b[0m \u001b[39mif\u001b[39;00m player \u001b[39m==\u001b[39m \u001b[39m'\u001b[39m\u001b[39m1\u001b[39m\u001b[39m'\u001b[39m:\n\u001b[0;32m---> <a href='vscode-notebook-cell:/Users/luca/Desktop/tictactoe.ipynb#W4sZmlsZQ%3D%3D?line=14'>15</a>\u001b[0m     user_in \u001b[39m=\u001b[39m user_inputs(values)\n\u001b[1;32m     <a href='vscode-notebook-cell:/Users/luca/Desktop/tictactoe.ipynb#W4sZmlsZQ%3D%3D?line=15'>16</a>\u001b[0m     values[user_in \u001b[39m-\u001b[39m\u001b[39m1\u001b[39m] \u001b[39m=\u001b[39m \u001b[39m'\u001b[39m\u001b[39mX\u001b[39m\u001b[39m'\u001b[39m\n\u001b[1;32m     <a href='vscode-notebook-cell:/Users/luca/Desktop/tictactoe.ipynb#W4sZmlsZQ%3D%3D?line=18'>19</a>\u001b[0m \u001b[39melif\u001b[39;00m player \u001b[39m==\u001b[39m \u001b[39m'\u001b[39m\u001b[39m2\u001b[39m\u001b[39m'\u001b[39m:\n",
      "\u001b[1;32m/Users/luca/Desktop/tictactoe.ipynb Cell 6\u001b[0m in \u001b[0;36m4\n\u001b[1;32m      <a href='vscode-notebook-cell:/Users/luca/Desktop/tictactoe.ipynb#W4sZmlsZQ%3D%3D?line=0'>1</a>\u001b[0m \u001b[39mdef\u001b[39;00m \u001b[39muser_inputs\u001b[39m(values):\n\u001b[1;32m      <a href='vscode-notebook-cell:/Users/luca/Desktop/tictactoe.ipynb#W4sZmlsZQ%3D%3D?line=1'>2</a>\u001b[0m     pos \u001b[39m=\u001b[39m \u001b[39minput\u001b[39m(\u001b[39m'\u001b[39m\u001b[39mplease select an empty field: \u001b[39m\u001b[39m'\u001b[39m)\n\u001b[0;32m----> <a href='vscode-notebook-cell:/Users/luca/Desktop/tictactoe.ipynb#W4sZmlsZQ%3D%3D?line=3'>4</a>\u001b[0m     \u001b[39mif\u001b[39;00m \u001b[39m0\u001b[39m \u001b[39m>\u001b[39m\u001b[39m=\u001b[39m \u001b[39mint\u001b[39;49m(pos) \u001b[39mor\u001b[39;00m \u001b[39mint\u001b[39m(pos) \u001b[39m>\u001b[39m \u001b[39m9\u001b[39m:\n\u001b[1;32m      <a href='vscode-notebook-cell:/Users/luca/Desktop/tictactoe.ipynb#W4sZmlsZQ%3D%3D?line=4'>5</a>\u001b[0m         \u001b[39mprint\u001b[39m(\u001b[39m'\u001b[39m\u001b[39mThis field does not exist\u001b[39m\u001b[39m'\u001b[39m)\n\u001b[1;32m      <a href='vscode-notebook-cell:/Users/luca/Desktop/tictactoe.ipynb#W4sZmlsZQ%3D%3D?line=5'>6</a>\u001b[0m         pos \u001b[39m=\u001b[39m  user_inputs(values)\n",
      "\u001b[0;31mValueError\u001b[0m: invalid literal for int() with base 10: ''"
     ]
    }
   ],
   "source": [
    "# game loop\n",
    "game = True\n",
    "values = []\n",
    "player = '1'\n",
    "\n",
    "\n",
    "for i in range(9):\n",
    "    values.append('-')\n",
    "\n",
    "while game:\n",
    "    game = check_win(values)\n",
    "    print_playing_field(values)\n",
    "\n",
    "    if player == '1':\n",
    "        user_in = user_inputs(values)\n",
    "        values[user_in -1] = 'X'\n",
    "\n",
    "\n",
    "    elif player == '2':\n",
    "        user_in = user_inputs(values)\n",
    "        values[user_in -1] = 'O'\n",
    "\n",
    "\n",
    "    player = '2' if player == '1' else '1'\n",
    "    clear_output()\n",
    "    game = check_end(values)"
   ]
  },
  {
   "cell_type": "code",
   "execution_count": null,
   "metadata": {},
   "outputs": [],
   "source": []
  }
 ],
 "metadata": {
  "kernelspec": {
   "display_name": "ai_lab",
   "language": "python",
   "name": "ai_lab"
  },
  "language_info": {
   "codemirror_mode": {
    "name": "ipython",
    "version": 3
   },
   "file_extension": ".py",
   "mimetype": "text/x-python",
   "name": "python",
   "nbconvert_exporter": "python",
   "pygments_lexer": "ipython3",
   "version": "3.10.0"
  },
  "orig_nbformat": 4
 },
 "nbformat": 4,
 "nbformat_minor": 2
}
