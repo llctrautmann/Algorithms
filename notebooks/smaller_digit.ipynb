{
 "cells": [
  {
   "cell_type": "code",
   "execution_count": 1,
   "metadata": {},
   "outputs": [
    {
     "name": "stdout",
     "output_type": "stream",
     "text": [
      "2035\n"
     ]
    }
   ],
   "source": [
    "import itertools\n",
    "\n",
    "\n",
    "st = \"2053\"\n",
    "\n",
    "int_st = int(st)\n",
    " \n",
    "per = itertools.permutations(st)\n",
    "\n",
    "l = []\n",
    "\n",
    "for i in per:\n",
    "    l.append(int(''.join(i)))\n",
    "\n",
    "\n",
    "index = sorted(l).index(int_st)\n",
    "if index == 0:\n",
    "    print(-1)\n",
    "\n",
    "l_sort = sorted(l)\n",
    "\n",
    "if len(str(l_sort[index-1])) < len(st):\n",
    "    print(-1)\n",
    "else:\n",
    "    print(l_sort[index-1])\n"
   ]
  },
  {
   "cell_type": "code",
   "execution_count": 2,
   "metadata": {},
   "outputs": [],
   "source": [
    "def next_smaller(n):\n",
    "    digits = list(str(n))\n",
    "    length = len(digits)\n",
    "\n",
    "    print(digits, length)\n",
    "\n",
    "\n",
    "    # Find the first decreasing digit from the right\n",
    "    i = length - 2\n",
    "    while i >= 0 and digits[i] <= digits[i+1]:\n",
    "       \n",
    "        i -= 1\n",
    "        print(i, digits[i], digits[i+1])\n",
    "\n",
    "    if i == -1:\n",
    "        return -1  # No smaller permutation exists\n",
    "\n",
    "    # Find the rightmost digit that is smaller than digits[i]\n",
    "    j = length - 1\n",
    "    while digits[j] >= digits[i]:\n",
    "        j -= 1\n",
    "\n",
    "    # Swap digits[i] and digits[j]\n",
    "    digits[i], digits[j] = digits[j], digits[i]\n",
    "\n",
    "    # Reverse the suffix starting from i+1\n",
    "    digits[i+1:] = reversed(digits[i+1:])\n",
    "\n",
    "    result = int(''.join(digits))\n",
    "    if result < n:\n",
    "        return result\n",
    "    else:\n",
    "        return -1  # No smaller permutation exists\n",
    "\n",
    "\n"
   ]
  },
  {
   "cell_type": "code",
   "execution_count": 3,
   "metadata": {},
   "outputs": [
    {
     "name": "stdout",
     "output_type": "stream",
     "text": [
      "['1', '3', '5', '8', '9'] 5\n",
      "2 5 8\n",
      "1 3 5\n",
      "0 1 3\n",
      "-1 9 1\n"
     ]
    },
    {
     "data": {
      "text/plain": [
       "-1"
      ]
     },
     "execution_count": 3,
     "metadata": {},
     "output_type": "execute_result"
    }
   ],
   "source": [
    "next_smaller(13589)"
   ]
  },
  {
   "cell_type": "code",
   "execution_count": 4,
   "metadata": {},
   "outputs": [
    {
     "data": {
      "text/plain": [
       "'12'"
      ]
     },
     "execution_count": 4,
     "metadata": {},
     "output_type": "execute_result"
    }
   ],
   "source": [
    "'1' + '2'"
   ]
  },
  {
   "cell_type": "code",
   "execution_count": 12,
   "metadata": {},
   "outputs": [
    {
     "name": "stdout",
     "output_type": "stream",
     "text": [
      "49319\n"
     ]
    }
   ],
   "source": [
    "st = '12086'\n",
    "\n",
    "s = ''\n",
    "integer = 1\n",
    "\n",
    "while st not in s:\n",
    "    s = s + str(integer)\n",
    "    integer += 1\n",
    "\n",
    "print(s.index(st))"
   ]
  },
  {
   "cell_type": "code",
   "execution_count": 6,
   "metadata": {},
   "outputs": [
    {
     "data": {
      "text/plain": [
       "'4'"
      ]
     },
     "execution_count": 6,
     "metadata": {},
     "output_type": "execute_result"
    }
   ],
   "source": []
  },
  {
   "cell_type": "code",
   "execution_count": null,
   "metadata": {},
   "outputs": [],
   "source": []
  }
 ],
 "metadata": {
  "kernelspec": {
   "display_name": ".venv",
   "language": "python",
   "name": "python3"
  },
  "language_info": {
   "codemirror_mode": {
    "name": "ipython",
    "version": 3
   },
   "file_extension": ".py",
   "mimetype": "text/x-python",
   "name": "python",
   "nbconvert_exporter": "python",
   "pygments_lexer": "ipython3",
   "version": "3.10.1"
  },
  "orig_nbformat": 4
 },
 "nbformat": 4,
 "nbformat_minor": 2
}
