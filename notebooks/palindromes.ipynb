{
 "cells": [
  {
   "cell_type": "code",
   "execution_count": 1,
   "metadata": {},
   "outputs": [],
   "source": [
    "from math import ceil"
   ]
  },
  {
   "cell_type": "code",
   "execution_count": 2,
   "metadata": {},
   "outputs": [],
   "source": [
    "def count_palindromes(a, b):\n",
    "\n",
    "    a, b = ceil(a), int(b)\n",
    "\n",
    "    out = []\n",
    "\n",
    "\n",
    "    for i in [a,b]:\n",
    "        if len(str(i)) % 2 == 0:\n",
    "            prefix = str(i)[:int(len(str(i)) / 2)]\n",
    "\n",
    "\n",
    "            # if int(prefix + prefix[::-1]) > i:\n",
    "            #     prefix = str(int(prefix) - 1)\n",
    "            \n",
    "            base_palindromes = int(prefix) * 2\n",
    "            additional_palindromes = 10**len(prefix) - int(prefix) - 1 \n",
    "\n",
    "            total = base_palindromes + additional_palindromes\n",
    "\n",
    "            out.append(total)\n",
    "            \n",
    "        else:\n",
    "            prefix = str(i)[:int(len(str(i)) / 2) + 1]\n",
    "\n",
    "            # if int(prefix + prefix[::-1]) > i:\n",
    "            #     prefix = str(int(prefix) - 1)\n",
    "\n",
    "            base_palindromes = int(prefix) * 2\n",
    "            additional_palindromes = int(prefix) + 10**(len(prefix) -1) - 1\n",
    "\n",
    "            total = base_palindromes - additional_palindromes\n",
    "            out.append(total)\n",
    "\n",
    "    return out"
   ]
  },
  {
   "cell_type": "code",
   "execution_count": 3,
   "metadata": {},
   "outputs": [
    {
     "data": {
      "text/plain": [
       "[82, 253]"
      ]
     },
     "execution_count": 3,
     "metadata": {},
     "output_type": "execute_result"
    }
   ],
   "source": [
    "a = 915.9936868888508\n",
    "b = 35231.38884119946\n",
    "count_palindromes(a, b)"
   ]
  },
  {
   "cell_type": "code",
   "execution_count": 5,
   "metadata": {},
   "outputs": [],
   "source": [
    "def num_palindrome(num):\n",
    "    num_length = 0\n",
    "    pal_length = 0\n",
    "    pal_prefix = 0\n",
    "    temp = num\n",
    "\n",
    "\n",
    "    # Find the length of the number, in digits.\n",
    "    while temp != 0:\n",
    "        num_length += 1\n",
    "        temp //= 10\n",
    "\n",
    "    print(num_length)\n",
    "\n",
    "\n",
    "\n",
    "    # Find the palindrome prefix.\n",
    "    pal_length = (num_length + 1) // 2\n",
    "    pal_prefix = num\n",
    "    for i in range(num_length - pal_length):\n",
    "        pal_prefix //= 10\n",
    "\n",
    "    # Check whether the palindrome formed by palPrefix is greater than num.\n",
    "    if construct_palindrome(pal_prefix, num_length) > num:\n",
    "        pal_prefix -= 1\n",
    "\n",
    "    # Calculate the number of palindromes less than num.\n",
    "    pal_prefix *= 2\n",
    "    if num_length & 1:  # Check if num_length is odd.\n",
    "        # Subtract off adjustment for odd length.\n",
    "        adjustment = 1\n",
    "        for i in range(1, pal_length):\n",
    "            adjustment *= 10\n",
    "        pal_prefix -= (pal_prefix // 2 - adjustment + 1)\n",
    "    else:\n",
    "        # Add adjustment for even length.\n",
    "        adjustment = 1\n",
    "        for i in range(pal_length):\n",
    "            adjustment *= 10\n",
    "        pal_prefix += (adjustment - 1 - pal_prefix // 2)\n",
    "    return pal_prefix\n",
    "\n",
    "\n",
    "def construct_palindrome(pal_prefix, num_length):\n",
    "    front = pal_prefix  # Starts at pal_prefix, builds to pal_prefix * 10 ^ (num_length // 2)\n",
    "    back = 0  # Starts at 0, builds to reversed pal_prefix without the last digit if num_length is odd.\n",
    "\n",
    "    if num_length & 1:  # Check if num_length is odd.\n",
    "        pal_prefix //= 10\n",
    "\n",
    "    while pal_prefix != 0:\n",
    "        digit = pal_prefix % 10\n",
    "        pal_prefix //= 10\n",
    "        back = back * 10 + digit\n",
    "        front *= 10\n",
    "\n",
    "    return front + back\n",
    "\n",
    "from math import ceil, floor\n",
    "\n",
    "def count_palindromes(a,b):\n",
    "    return num_palindrome(int(b)) - num_palindrome(int(ceil(a)) - 1)\n"
   ]
  },
  {
   "cell_type": "code",
   "execution_count": 55,
   "metadata": {},
   "outputs": [],
   "source": [
    "def partitions(n):\n",
    "    print(n)"
   ]
  },
  {
   "cell_type": "code",
   "execution_count": 56,
   "metadata": {},
   "outputs": [
    {
     "name": "stdout",
     "output_type": "stream",
     "text": [
      "5\n"
     ]
    }
   ],
   "source": [
    "partitions(5)"
   ]
  },
  {
   "cell_type": "code",
   "execution_count": 61,
   "metadata": {},
   "outputs": [],
   "source": [
    "def list_partitions(n,m):\n",
    "    \n",
    "    if n < 0 or m == 0:\n",
    "        return []\n",
    "    \n",
    "    else:\n",
    "        exact_match = []\n",
    "        if n == m:\n",
    "            exact_match = [[m]]\n",
    "        with_m = [p + [m] for p in list_partitions(n-m,m)]\n",
    "        without_m = list_partitions(n, m-1)\n",
    "        return exact_match + with_m + without_m"
   ]
  },
  {
   "cell_type": "code",
   "execution_count": 66,
   "metadata": {},
   "outputs": [
    {
     "data": {
      "text/plain": [
       "[[4], [1, 3], [2, 2], [1, 1, 2], [1, 1, 1, 1]]"
      ]
     },
     "execution_count": 66,
     "metadata": {},
     "output_type": "execute_result"
    }
   ],
   "source": [
    "list_partitions(4)"
   ]
  },
  {
   "cell_type": "code",
   "execution_count": 65,
   "metadata": {},
   "outputs": [],
   "source": [
    "def list_partitions(n):\n",
    "\n",
    "    def partitions_helper(n, max_value):\n",
    "        if n < 0 or max_value == 0:\n",
    "            return []\n",
    "        else:\n",
    "            exact_match = []\n",
    "            if n == max_value:\n",
    "                exact_match = [[max_value]]\n",
    "            with_m = [p + [max_value] for p in partitions_helper(n - max_value, max_value)]\n",
    "            without_m = partitions_helper(n, max_value - 1)\n",
    "            return exact_match + with_m + without_m\n",
    "\n",
    "    return partitions_helper(n, n)\n"
   ]
  },
  {
   "cell_type": "code",
   "execution_count": 67,
   "metadata": {},
   "outputs": [
    {
     "data": {
      "text/plain": [
       "[[4], [1, 3], [2, 2], [1, 1, 2], [1, 1, 1, 1]]"
      ]
     },
     "execution_count": 67,
     "metadata": {},
     "output_type": "execute_result"
    }
   ],
   "source": [
    "list_partitions(4)"
   ]
  },
  {
   "cell_type": "code",
   "execution_count": 74,
   "metadata": {},
   "outputs": [],
   "source": [
    "def partitions(n):\n",
    "    def list_partitions(n,m):\n",
    "        if n>0 and m>0:\n",
    "            if n==m:\n",
    "                yield str(m)\n",
    "            for p in list_partitions(n-m, m):\n",
    "                yield p+ '+' + str(m)\n",
    "            yield from list_partitions(n, m-1)\n",
    "    return len(list(list_partitions(n,n)))"
   ]
  },
  {
   "cell_type": "code",
   "execution_count": 76,
   "metadata": {},
   "outputs": [
    {
     "data": {
      "text/plain": [
       "11"
      ]
     },
     "execution_count": 76,
     "metadata": {},
     "output_type": "execute_result"
    }
   ],
   "source": [
    "len(list(partitions(6)))"
   ]
  },
  {
   "cell_type": "code",
   "execution_count": null,
   "metadata": {},
   "outputs": [],
   "source": []
  }
 ],
 "metadata": {
  "kernelspec": {
   "display_name": ".venv",
   "language": "python",
   "name": "python3"
  },
  "language_info": {
   "codemirror_mode": {
    "name": "ipython",
    "version": 3
   },
   "file_extension": ".py",
   "mimetype": "text/x-python",
   "name": "python",
   "nbconvert_exporter": "python",
   "pygments_lexer": "ipython3",
   "version": "3.10.1"
  },
  "orig_nbformat": 4
 },
 "nbformat": 4,
 "nbformat_minor": 2
}
