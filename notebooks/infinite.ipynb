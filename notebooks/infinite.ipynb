{
 "cells": [
  {
   "cell_type": "markdown",
   "metadata": {},
   "source": [
    "\n",
    "\n",
    "Here's a general description of how to solve this problem. Translating it to Java can still be challenging.\n",
    "\n",
    "Your input String is basically an infinite sequence of all the natural numbers 1 2 3 4 5 6 7 8 9 10 11 12 13 ....\n",
    "\n",
    "I believe the point of the exercise is to identify the first sub-sequence of natural numbers of the input String that the substring n belongs to, and then calculate its index without actually constructing the large \"infinite\" String.\n",
    "\n",
    "For that purpose, you have to try to split the substring n into an incrementing sequence of numbers having as few digits as possible.\n",
    "\n",
    "First you have to check is the substring n creates a sequence of single digits numbers. That is the case, for example, if n == 345678 (note that n may contain both single digit and double digit numbers, for example n == 345678910, which you should also be able to identify).\n",
    "\n",
    "If you fail in that step, you should look for a sequence of double digit numbers. That is the case, for example, if n == 33343536. Now, this could get trickier, since n == 2333435363 is also a sequence of two digit numbers, but the leading and trailing numbers of the sequence (32 and 37) are truncated.\n",
    "\n",
    "If you fail again, you look for a sequence of 3 digit numbers.\n",
    "\n",
    "If you don't find any sequence, you treat the entire substring n as a single number in the big String.\n",
    "\n",
    "Now, suppose n is 199319941995, and you discovered in the previous step that the first number in the sequence is 1993. The remaining work is to calculate the index of the number 1993 in the input String. You know that the single digit numbers take 1*9 indices. The two digit numbers take 2*90 indices. The three digit numbers take 3*900 indices. The 3 digit numbers between 1000 and 1993 take 4*993 indices. Therefore the index of 1993 is 1*9+2*90+3*900+4*993, and that's the first index of the substring 199319941995.\n"
   ]
  },
  {
   "cell_type": "code",
   "execution_count": 113,
   "metadata": {},
   "outputs": [],
   "source": [
    "seq = '121122123'"
   ]
  },
  {
   "cell_type": "code",
   "execution_count": null,
   "metadata": {},
   "outputs": [],
   "source": [
    "# known issues:\n",
    "\n",
    "    # - the condition if counter >= 2 cannot be correct see seq = '12111212', mitigation counld be any condition that half the input string and checks if [:half] is [:half] - 1 "
   ]
  },
  {
   "cell_type": "code",
   "execution_count": 211,
   "metadata": {},
   "outputs": [],
   "source": [
    "def find_sequence(seq,verbose=False):\n",
    "    # edge cases\n",
    "    if len(seq) % 2 == 0:\n",
    "        fh = seq[:len(seq) // 2]\n",
    "        sh = seq[len(seq) // 2:]\n",
    "\n",
    "        if int(sh) == int(fh) + 1:\n",
    "             print(f'Sequence Found, starting from {int(fh)}') \n",
    "\n",
    "    if seq == '12345678910':\n",
    "        print(f'Sequence Found, starting from 1')\n",
    "    \n",
    "\n",
    "\n",
    "\n",
    "\n",
    "\n",
    "\n",
    "\n",
    "\n",
    "\n",
    "\n",
    "    while len(seq) > 0:\n",
    "        solution = False\n",
    "\n",
    "        for n in range(1,16):\n",
    "            seql = [seq[i:i+n] for i in range(0, len(seq), n)]\n",
    "            counter = 0\n",
    "            flag = True\n",
    "            d = {}\n",
    "            for i in range(0, len(seql) - 1):\n",
    "                if int(seql[i + 1]) == int(seql[i]) + 1:\n",
    "                    if verbose:\n",
    "                        print(True)\n",
    "                    d[counter] = seql[i]\n",
    "                    counter += 1\n",
    "                else:\n",
    "                    if verbose:\n",
    "                        print(False)\n",
    "                    flag = False\n",
    "            \n",
    "            if counter >= 2 and flag == True:\n",
    "                print(f'Sequence Found, starting from {d[0]}')\n",
    "                solution = True\n",
    "    \n",
    "        if solution == True:\n",
    "            break\n",
    "        else:\n",
    "            # print(seq)\n",
    "            seq = seq[1:]\n",
    "            \n",
    "            \n",
    "\n",
    "    "
   ]
  },
  {
   "cell_type": "code",
   "execution_count": 245,
   "metadata": {},
   "outputs": [
    {
     "name": "stdout",
     "output_type": "stream",
     "text": [
      "Sequence Found, starting from 98\n"
     ]
    }
   ],
   "source": [
    "seq = '9899100'\n",
    "n = 2\n",
    "\n",
    "seql = [seq[i:i+n] for i in range(0, len(seq), n)]\n",
    "counter = 0\n",
    "d = {}\n",
    "\n",
    "for i in range(0, len(seql) - 1):\n",
    "    if int(seql[i + 1]) == int(seql[i]) + 1:\n",
    "\n",
    "        d[counter] = seql[i]\n",
    "        counter += 1\n",
    "\n",
    "    elif len(str(int(seql[i]) + 1)) != len(seql[i]):\n",
    "        # print(seql[i], str(int(seql[i]) + 1))\n",
    "\n",
    "        len_i = len(seql[i])\n",
    "\n",
    "        # print(f'len_i = {len_i}')\n",
    "\n",
    "        if int(int(seql[i]) + 1) == int(''.join(seql[i+1:i+len_i + 2])):\n",
    "            # print('yes')\n",
    "            d[counter] = str(int(seql[i]))\n",
    "            counter += 1\n",
    "    \n",
    "    else:\n",
    "        break\n",
    "\n",
    "if counter >= 2:\n",
    "    print(f'Sequence Found, starting from {d[0]}')\n",
    "    solution = True"
   ]
  },
  {
   "cell_type": "code",
   "execution_count": 304,
   "metadata": {},
   "outputs": [],
   "source": [
    "# I will need this in the helper function to construct the new list with the new step size\n",
    "\n",
    "def mag_increase(l: list,n: str):\n",
    "    l2 = ''.join(l[l.index(n)+1:])\n",
    "    n = int(len(n)) + 1    \n",
    "    seql = [l2[i:i+n] for i in range(0, len(l2), n)]\n",
    "    return seql"
   ]
  },
  {
   "cell_type": "code",
   "execution_count": 307,
   "metadata": {},
   "outputs": [
    {
     "name": "stdout",
     "output_type": "stream",
     "text": [
      "['991', '001', '011', '02']\n",
      "00101102\n",
      "991\n",
      "4\n"
     ]
    },
    {
     "data": {
      "text/plain": [
       "['0010', '1102']"
      ]
     },
     "execution_count": 307,
     "metadata": {},
     "output_type": "execute_result"
    }
   ],
   "source": [
    "l = '99100101102'\n",
    "n = 3\n",
    "l = [l[i:i+n] for i in range(0, len(l), n)]\n",
    "\n",
    "\n",
    "print(l)\n",
    "mag_increase(l, '991')\n",
    "\n"
   ]
  },
  {
   "cell_type": "code",
   "execution_count": null,
   "metadata": {},
   "outputs": [],
   "source": []
  }
 ],
 "metadata": {
  "kernelspec": {
   "display_name": ".venv",
   "language": "python",
   "name": "python3"
  },
  "language_info": {
   "codemirror_mode": {
    "name": "ipython",
    "version": 3
   },
   "file_extension": ".py",
   "mimetype": "text/x-python",
   "name": "python",
   "nbconvert_exporter": "python",
   "pygments_lexer": "ipython3",
   "version": "3.10.1"
  },
  "orig_nbformat": 4
 },
 "nbformat": 4,
 "nbformat_minor": 2
}
