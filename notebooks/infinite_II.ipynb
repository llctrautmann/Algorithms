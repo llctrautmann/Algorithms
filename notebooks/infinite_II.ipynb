{
 "cells": [
  {
   "cell_type": "code",
   "execution_count": 2,
   "metadata": {},
   "outputs": [],
   "source": [
    "import random\n",
    "import numpy as np"
   ]
  },
  {
   "cell_type": "code",
   "execution_count": 84,
   "metadata": {},
   "outputs": [],
   "source": [
    "def findString(string):\n",
    "    array = [int(x) for x in string]\n",
    "    array = np.array([list(array)])\n",
    "    n = len(array)\n",
    "    ones = np.ones(shape=(n,1),dtype=int)\n",
    "    m1 = array.T @ ones.T - ones @ array\n",
    "\n",
    "    return m1\n",
    "\n",
    "def get_diagonals(matrix):\n",
    "    diagonals = []\n",
    "    rows, cols = matrix.shape\n",
    "\n",
    "    # Lower diagonals\n",
    "    for i in range(1, rows):\n",
    "        diagonal = matrix.diagonal(offset=-i)\n",
    "        if len(diagonal) >= 1:\n",
    "                    diagonals.append(diagonal)\n",
    "\n",
    "    out = []\n",
    "    lsts = []\n",
    "    for n, lst in enumerate(diagonals):\n",
    "        flag = True\n",
    "        for idx in lst:\n",
    "            if idx not in [0,-1,1,-8,-9]:\n",
    "                 flag = False\n",
    "        \n",
    "        if flag:     \n",
    "            out.append((n,lst))\n",
    "            lsts.append(lst)\n",
    "\n",
    "    return out, lsts"
   ]
  },
  {
   "cell_type": "code",
   "execution_count": 85,
   "metadata": {},
   "outputs": [],
   "source": [
    "def discard_wrong_strings(l: list):\n",
    "    for lst in l:\n",
    "        string = ''.join([str(x) for x in lst])\n",
    "\n",
    "        # edge cases\n",
    "        edge_cases = '-8-1'\n",
    "        edge_cases_2 = '-1-1'\n",
    "\n",
    "        if edge_cases in string:\n",
    "            l.remove(lst)\n",
    "\n",
    "\n",
    "    print(l)\n",
    "\n",
    "\n",
    "def find_mag_changes(ll: list):\n",
    "    for lst in ll:\n",
    "        string = ''.join([str(x) for x in lst])\n",
    "\n",
    "        for i in range(1,14):\n",
    "            test_strings = '1-8'  + i * '-9' + '-1'\n",
    "\n",
    "            if test_strings in string:\n",
    "                print(f'found mag change from {10**i} to {10**(i+1)}')\n",
    "            elif test_strings[1:] in string:\n",
    "                print('potential mag change detected')\n",
    "\n",
    "                index = string.index('-8')\n",
    "                if string[index - 1] == 0:\n",
    "                    continue\n",
    "                elif string[index - 1] == 1:\n",
    "                    pass\n"
   ]
  },
  {
   "cell_type": "code",
   "execution_count": 94,
   "metadata": {},
   "outputs": [
    {
     "name": "stdout",
     "output_type": "stream",
     "text": [
      "[[ 0 -1  1  0 -1  0]\n",
      " [ 1  0  2  1  0  1]\n",
      " [-1 -2  0 -1 -2 -1]\n",
      " [ 0 -1  1  0 -1  0]\n",
      " [ 1  0  2  1  0  1]\n",
      " [ 0 -1  1  0 -1  0]] = matrix\n",
      "\n",
      "[(2, array([0, 0, 1])), (3, array([ 1, -1])), (4, array([0]))]\n",
      "\n",
      "[0] 4\n",
      "5 0\n",
      "00001\n"
     ]
    },
    {
     "ename": "ValueError",
     "evalue": "substring not found",
     "output_type": "error",
     "traceback": [
      "\u001b[0;31m---------------------------------------------------------------------------\u001b[0m",
      "\u001b[0;31mValueError\u001b[0m                                Traceback (most recent call last)",
      "Cell \u001b[0;32mIn[94], line 33\u001b[0m\n\u001b[1;32m     29\u001b[0m identifier \u001b[39m=\u001b[39m offset \u001b[39m*\u001b[39m \u001b[39m'\u001b[39m\u001b[39m0\u001b[39m\u001b[39m'\u001b[39m \u001b[39m+\u001b[39m \u001b[39m'\u001b[39m\u001b[39m1\u001b[39m\u001b[39m'\u001b[39m\n\u001b[1;32m     31\u001b[0m \u001b[39mprint\u001b[39m(identifier)\n\u001b[0;32m---> 33\u001b[0m str_index \u001b[39m=\u001b[39m lst\u001b[39m.\u001b[39;49mindex(identifier)\n\u001b[1;32m     35\u001b[0m \u001b[39mprint\u001b[39m(str_index)\n\u001b[1;32m     37\u001b[0m \u001b[39mprint\u001b[39m(\u001b[39mf\u001b[39m\u001b[39m'\u001b[39m\u001b[39mThe first number is \u001b[39m\u001b[39m{\u001b[39;00mstring[str_index:str_index\u001b[39m \u001b[39m\u001b[39m+\u001b[39m\u001b[39m \u001b[39moffset\u001b[39m \u001b[39m\u001b[39m+\u001b[39m\u001b[39m \u001b[39m\u001b[39m1\u001b[39m]\u001b[39m}\u001b[39;00m\u001b[39m at index \u001b[39m\u001b[39m{\u001b[39;00mstr_index\u001b[39m}\u001b[39;00m\u001b[39m'\u001b[39m)\n",
      "\u001b[0;31mValueError\u001b[0m: substring not found"
     ]
    }
   ],
   "source": [
    "string = '675676'\n",
    "\n",
    "mat = findString(string)\n",
    "print(f'{mat} = matrix\\n')\n",
    "\n",
    "diagonals, lsts = get_diagonals(mat)\n",
    "print(f'{diagonals}\\n')\n",
    "\n",
    "min_len = len([x for x in range(20)])\n",
    "result = None\n",
    "offset = None\n",
    "\n",
    "for i in range(len(diagonals)):\n",
    "    if len(diagonals[i][1]) < min_len:\n",
    "        min_len = len(diagonals[i][1])\n",
    "        result = diagonals[i][1]\n",
    "        offset = diagonals[i][0]\n",
    "\n",
    "print(result, offset)\n",
    "\n",
    "\n",
    "\n",
    "if type(result) == None:\n",
    "    print(string)\n",
    "else:\n",
    "    lst = ''.join([str(char) for char in result])\n",
    "    print(offset + 1, lst)\n",
    "\n",
    "    identifier = offset * '0' + '1'\n",
    "\n",
    "    print(identifier)\n",
    "\n",
    "    str_index = lst.index(identifier)\n",
    "\n",
    "    print(str_index)\n",
    "\n",
    "    print(f'The first number is {string[str_index:str_index + offset + 1]} at index {str_index}')\n",
    "\n",
    "\n",
    "# discard_wrong_strings(lsts)\n",
    "# find_mag_changes(lsts)"
   ]
  },
  {
   "cell_type": "code",
   "execution_count": null,
   "metadata": {},
   "outputs": [],
   "source": []
  }
 ],
 "metadata": {
  "kernelspec": {
   "display_name": ".venv",
   "language": "python",
   "name": "python3"
  },
  "language_info": {
   "codemirror_mode": {
    "name": "ipython",
    "version": 3
   },
   "file_extension": ".py",
   "mimetype": "text/x-python",
   "name": "python",
   "nbconvert_exporter": "python",
   "pygments_lexer": "ipython3",
   "version": "3.10.1"
  },
  "orig_nbformat": 4
 },
 "nbformat": 4,
 "nbformat_minor": 2
}
